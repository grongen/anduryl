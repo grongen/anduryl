{
 "cells": [
  {
   "cell_type": "code",
   "execution_count": 30,
   "id": "355fb547",
   "metadata": {},
   "outputs": [],
   "source": []
  },
  {
   "cell_type": "code",
   "execution_count": 31,
   "id": "4303d420",
   "metadata": {},
   "outputs": [],
   "source": []
  },
  {
   "cell_type": "code",
   "execution_count": 32,
   "id": "3639bbea",
   "metadata": {},
   "outputs": [
    {
     "ename": "TypeError",
     "evalue": "ufunc 'bitwise_or' not supported for the input types, and the inputs could not be safely coerced to any supported types according to the casting rule ''safe''",
     "output_type": "error",
     "traceback": [
      "\u001b[1;31m---------------------------------------------------------------------------\u001b[0m",
      "\u001b[1;31mTypeError\u001b[0m                                 Traceback (most recent call last)",
      "Input \u001b[1;32mIn [32]\u001b[0m, in \u001b[0;36m<cell line: 1>\u001b[1;34m()\u001b[0m\n\u001b[1;32m----> 1\u001b[0m \u001b[43mswilk\u001b[49m\u001b[43m(\u001b[49m\u001b[38;5;28;43;01mTrue\u001b[39;49;00m\u001b[43m,\u001b[49m\u001b[43m \u001b[49m\u001b[43mx\u001b[49m\u001b[43m,\u001b[49m\u001b[43m \u001b[49m\u001b[43mnp\u001b[49m\u001b[38;5;241;43m.\u001b[39;49m\u001b[43mones_like\u001b[49m\u001b[43m(\u001b[49m\u001b[43mx\u001b[49m\u001b[43m)\u001b[49m\u001b[43m \u001b[49m\u001b[38;5;241;43m/\u001b[39;49m\u001b[43m \u001b[49m\u001b[38;5;28;43mlen\u001b[39;49m\u001b[43m(\u001b[49m\u001b[43mx\u001b[49m\u001b[43m)\u001b[49m\u001b[43m)\u001b[49m\n",
      "Input \u001b[1;32mIn [31]\u001b[0m, in \u001b[0;36mswilk\u001b[1;34m(init, x, a)\u001b[0m\n\u001b[0;32m    274\u001b[0m     m \u001b[38;5;241m+\u001b[39m\u001b[38;5;241m=\u001b[39m zbar \u001b[38;5;241m*\u001b[39m s\n\u001b[0;32m    275\u001b[0m     s \u001b[38;5;241m*\u001b[39m\u001b[38;5;241m=\u001b[39m zsd\n\u001b[1;32m--> 277\u001b[0m pw \u001b[38;5;241m=\u001b[39m \u001b[43malnorm\u001b[49m\u001b[43m(\u001b[49m\u001b[43m(\u001b[49m\u001b[43my\u001b[49m\u001b[43m \u001b[49m\u001b[38;5;241;43m-\u001b[39;49m\u001b[43m \u001b[49m\u001b[43mm\u001b[49m\u001b[43m)\u001b[49m\u001b[43m \u001b[49m\u001b[38;5;241;43m/\u001b[39;49m\u001b[43m \u001b[49m\u001b[43ms\u001b[49m\u001b[43m,\u001b[49m\u001b[43m \u001b[49m\u001b[38;5;28;43;01mTrue\u001b[39;49;00m\u001b[43m)\u001b[49m\n\u001b[0;32m    278\u001b[0m \u001b[38;5;124;03m\"\"\"  = alnorm_(dble((Y - M)/S), 1) \"\"\"\u001b[39;00m\n\u001b[0;32m    280\u001b[0m \u001b[38;5;66;03m#  Results are returned in w, pw and ifault\u001b[39;00m\n",
      "Input \u001b[1;32mIn [30]\u001b[0m, in \u001b[0;36malnorm\u001b[1;34m(x, upper)\u001b[0m\n\u001b[0;32m    124\u001b[0m     up \u001b[38;5;241m=\u001b[39m \u001b[38;5;129;01mnot\u001b[39;00m up\n\u001b[0;32m    125\u001b[0m     z \u001b[38;5;241m=\u001b[39m \u001b[38;5;241m-\u001b[39mz\n\u001b[1;32m--> 127\u001b[0m \u001b[38;5;28;01mif\u001b[39;00m z \u001b[38;5;241m<\u001b[39m\u001b[38;5;241m=\u001b[39m \u001b[43mltone\u001b[49m\u001b[43m \u001b[49m\u001b[38;5;241;43m|\u001b[39;49m\u001b[43m \u001b[49m\u001b[43m(\u001b[49m\u001b[43mup\u001b[49m\u001b[43m \u001b[49m\u001b[38;5;241;43m&\u001b[39;49m\u001b[43m \u001b[49m\u001b[43m(\u001b[49m\u001b[43mz\u001b[49m\u001b[43m \u001b[49m\u001b[38;5;241;43m<\u001b[39;49m\u001b[38;5;241;43m=\u001b[39;49m\u001b[43m \u001b[49m\u001b[43mutzero\u001b[49m\u001b[43m)\u001b[49m\u001b[43m)\u001b[49m:\n\u001b[0;32m    128\u001b[0m     y \u001b[38;5;241m=\u001b[39m half \u001b[38;5;241m*\u001b[39m z \u001b[38;5;241m*\u001b[39m z\n\u001b[0;32m    129\u001b[0m     \u001b[38;5;28;01mif\u001b[39;00m z \u001b[38;5;241m>\u001b[39m con:\n",
      "\u001b[1;31mTypeError\u001b[0m: ufunc 'bitwise_or' not supported for the input types, and the inputs could not be safely coerced to any supported types according to the casting rule ''safe''"
     ]
    }
   ],
   "source": [
    "swilk(True, x, np.ones_like(x) / len(x))"
   ]
  },
  {
   "cell_type": "code",
   "execution_count": 9,
   "id": "94eccb3b",
   "metadata": {},
   "outputs": [],
   "source": []
  },
  {
   "cell_type": "code",
   "execution_count": 10,
   "id": "6c53dc09",
   "metadata": {},
   "outputs": [],
   "source": [
    "from scipy.stats import shapiro"
   ]
  },
  {
   "cell_type": "code",
   "execution_count": 11,
   "id": "7956f9a1",
   "metadata": {},
   "outputs": [
    {
     "data": {
      "text/plain": [
       "ShapiroResult(statistic=0.8346663117408752, pvalue=0.0009134920546784997)"
      ]
     },
     "execution_count": 11,
     "metadata": {},
     "output_type": "execute_result"
    }
   ],
   "source": [
    "shapiro(x)"
   ]
  },
  {
   "cell_type": "code",
   "execution_count": 33,
   "id": "f3d45dbe",
   "metadata": {},
   "outputs": [],
   "source": [
    "g = np.array([-2.273, 0.459])\n",
    "c1 = np.array([0.0, 0.221157, -0.147981, -2.07119, 4.434685, -2.706056])\n",
    "c2 = np.array([0.0, 0.042981, -0.293762, -1.752461, 5.682633, -3.582633])\n",
    "c3 = np.array([0.544, -0.39978, 0.025054, -6.714e-4])\n",
    "c4 = np.array([1.3822, -0.77857, 0.062767, -0.0020322])\n",
    "c5 = np.array([-1.5861, -0.31082, -0.083751, 0.0038915])\n",
    "c6 = np.array([-0.4803, -0.082676, 0.0030302])\n",
    "c7 = np.array([0.164, 0.533])\n",
    "c8 = np.array([0.1736, 0.315])\n",
    "c9 = np.array([0.256, -0.00635])"
   ]
  },
  {
   "cell_type": "code",
   "execution_count": 37,
   "id": "9669394c",
   "metadata": {},
   "outputs": [
    {
     "name": "stdout",
     "output_type": "stream",
     "text": [
      "np.array([ 0.459, -2.273])\n",
      "np.array([-2.706056,  4.434685, -2.07119 , -0.147981,  0.221157,  0.      ])\n",
      "np.array([-3.582633,  5.682633, -1.752461, -0.293762,  0.042981,  0.      ])\n",
      "np.array([-0.0006714,  0.025054 , -0.39978  ,  0.544    ])\n",
      "np.array([-0.0020322,  0.062767 , -0.77857  ,  1.3822   ])\n",
      "np.array([ 0.0038915, -0.083751 , -0.31082  , -1.5861   ])\n",
      "np.array([ 0.0030302, -0.082676 , -0.4803   ])\n",
      "np.array([0.533, 0.164])\n",
      "np.array([0.315 , 0.1736])\n",
      "np.array([-0.00635,  0.256  ])\n"
     ]
    }
   ],
   "source": [
    "print('np.'+repr(g[::-1]))\n",
    "print('np.'+repr(c1[::-1]))\n",
    "print('np.'+repr(c2[::-1]))\n",
    "print('np.'+repr(c3[::-1]))\n",
    "print('np.'+repr(c4[::-1]))\n",
    "print('np.'+repr(c5[::-1]))\n",
    "print('np.'+repr(c6[::-1]))\n",
    "print('np.'+repr(c7[::-1]))\n",
    "print('np.'+repr(c8[::-1]))\n",
    "print('np.'+repr(c9[::-1]))"
   ]
  },
  {
   "cell_type": "code",
   "execution_count": null,
   "id": "df713c6d",
   "metadata": {},
   "outputs": [],
   "source": []
  }
 ],
 "metadata": {
  "kernelspec": {
   "display_name": "Python 3 (ipykernel)",
   "language": "python",
   "name": "python3"
  },
  "language_info": {
   "codemirror_mode": {
    "name": "ipython",
    "version": 3
   },
   "file_extension": ".py",
   "mimetype": "text/x-python",
   "name": "python",
   "nbconvert_exporter": "python",
   "pygments_lexer": "ipython3",
   "version": "3.9.7"
  }
 },
 "nbformat": 4,
 "nbformat_minor": 5
}
